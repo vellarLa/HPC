{
  "nbformat": 4,
  "nbformat_minor": 0,
  "metadata": {
    "colab": {
      "provenance": [],
      "gpuType": "T4"
    },
    "kernelspec": {
      "name": "python3",
      "display_name": "Python 3"
    },
    "language_info": {
      "name": "python"
    },
    "accelerator": "GPU"
  },
  "cells": [
    {
      "cell_type": "code",
      "source": [
        "!nvcc --version\n",
        "!pip install git+https://github.com/andreinechaev/nvcc4jupyter.git\n",
        "%load_ext nvcc_plugin\n",
        "!cuda-install-samples-11.2.sh ~ && cd /root/NVIDIA_CUDA-11.2_Samples/"
      ],
      "metadata": {
        "colab": {
          "base_uri": "https://localhost:8080/"
        },
        "id": "l_Jx92JaDnGk",
        "outputId": "52e8a5a9-bfc0-47c9-8c8e-3909a4a2e10a"
      },
      "execution_count": 1,
      "outputs": [
        {
          "output_type": "stream",
          "name": "stdout",
          "text": [
            "nvcc: NVIDIA (R) Cuda compiler driver\n",
            "Copyright (c) 2005-2023 NVIDIA Corporation\n",
            "Built on Tue_Aug_15_22:02:13_PDT_2023\n",
            "Cuda compilation tools, release 12.2, V12.2.140\n",
            "Build cuda_12.2.r12.2/compiler.33191640_0\n",
            "Collecting git+https://github.com/andreinechaev/nvcc4jupyter.git\n",
            "  Cloning https://github.com/andreinechaev/nvcc4jupyter.git to /tmp/pip-req-build-ah_wryfb\n",
            "  Running command git clone --filter=blob:none --quiet https://github.com/andreinechaev/nvcc4jupyter.git /tmp/pip-req-build-ah_wryfb\n",
            "  Resolved https://github.com/andreinechaev/nvcc4jupyter.git to commit 0d2ab99cccbbc682722e708515fe9c4cfc50185a\n",
            "  Preparing metadata (setup.py) ... \u001b[?25l\u001b[?25hdone\n",
            "Building wheels for collected packages: NVCCPlugin\n",
            "  Building wheel for NVCCPlugin (setup.py) ... \u001b[?25l\u001b[?25hdone\n",
            "  Created wheel for NVCCPlugin: filename=NVCCPlugin-0.0.2-py3-none-any.whl size=4716 sha256=a26baadd8b3c814ea9596d97be228d2c74d476bdbde79b5df36b31bf153b22e9\n",
            "  Stored in directory: /tmp/pip-ephem-wheel-cache-wmsuqypj/wheels/a8/b9/18/23f8ef71ceb0f63297dd1903aedd067e6243a68ea756d6feea\n",
            "Successfully built NVCCPlugin\n",
            "Installing collected packages: NVCCPlugin\n",
            "Successfully installed NVCCPlugin-0.0.2\n",
            "created output directory at /content/src\n",
            "Out bin /content/result.out\n",
            "/bin/bash: line 1: cuda-install-samples-11.2.sh: command not found\n"
          ]
        }
      ]
    },
    {
      "cell_type": "code",
      "execution_count": 6,
      "metadata": {
        "id": "AIGuQt2OxH1F",
        "colab": {
          "base_uri": "https://localhost:8080/",
          "height": 35
        },
        "outputId": "da6dc76c-3ccc-4352-b7ff-9950ad072b1d"
      },
      "outputs": [
        {
          "output_type": "execute_result",
          "data": {
            "text/plain": [
              "'File written in /content/src/lab_3.cu'"
            ],
            "application/vnd.google.colaboratory.intrinsic+json": {
              "type": "string"
            }
          },
          "metadata": {},
          "execution_count": 6
        }
      ],
      "source": [
        "%%cuda --name lab_3.cu\n",
        "#include <cublas_v2.h>\n",
        "#include <malloc.h>\n",
        "#include \"cuda_runtime.h\"\n",
        "#include \"device_launch_parameters.h\"\n",
        "#include <cstdlib>\n",
        "#include <curand.h>\n",
        "#include <stdio.h>\n",
        "#include <time.h>\n",
        "#include <iostream>\n",
        "#include <ctime>\n",
        "#pragma comment (lib, \"cublas.lib\")\n",
        "\n",
        "//__device__ double atomicAdd(double* a, double b) { return b; }\n",
        "\n",
        "__global__ void piCalcKernel(const double * A, const double * B, int * pi, int size) {\n",
        "    int sum = 0;\n",
        "    int idx = threadIdx.x + (blockIdx.x*blockDim.x);\n",
        "    int thread_count = gridDim.x * blockDim.x;\n",
        "    double temp;\n",
        "    for (int i=idx; i<size; i += thread_count) {\n",
        "      temp = A[i] * A[i] + B[i] * B[i];\n",
        "      if (temp < 1) {\n",
        "          sum ++;\n",
        "      }\n",
        "    }\n",
        "    atomicAdd(pi, sum);\n",
        "}\n",
        "\n",
        "void GPU_fill_rand(double* A, int size) {\n",
        "  curandGenerator_t prng;\n",
        "  curandCreateGenerator(&prng, CURAND_RNG_PSEUDO_DEFAULT);\n",
        "  curandSetPseudoRandomGeneratorSeed(prng, (unsigned long long) clock());\n",
        "  curandGenerateUniformDouble(prng, A, size);\n",
        "}\n",
        "\n",
        "\n",
        "void check_calc(const double* A, const double* B, int size) {\n",
        "  double temp;\n",
        "  int sum = 0;\n",
        "  for (int i = 0; i < size; i++) {\n",
        "      temp = A[i] * A[i] + B[i] * B[i];\n",
        "      //std:: cout << temp << \"\\n\";\n",
        "      if (temp < 1) {\n",
        "          sum += 1;\n",
        "      }\n",
        "  }\n",
        "  //std:: cout << sum << \"\\n\";\n",
        "  temp = ((double)(4 * sum)) / ((double)size);\n",
        "  printf(\"Check PI = %f\", temp);\n",
        "}\n",
        "\n",
        "\n",
        "int main() {\n",
        "  int size;\n",
        "  std::cin >> size;\n",
        "  int GRID_SIZE = 4;\n",
        "  int BLOCK_SIZE = 128;\n",
        "  // Создаем массивы / выделяем память на CPU\n",
        "  double* a = (double*)malloc(size * sizeof(double));\n",
        "  double* b = (double*)malloc(size * sizeof(double));\n",
        "  int* pi = (int*)malloc(sizeof(int));\n",
        "  // Создаем массивы / выделяем память на GPU\n",
        "  double* a_gpu;\n",
        "  double* b_gpu;\n",
        "  int* pi_gpu;\n",
        "  cudaError_t cuerr = cudaMalloc(&a_gpu, size * sizeof(double));\n",
        "  if (cuerr != cudaSuccess) {\n",
        "    fprintf(stderr, \"Cannot allocate device array for A: %s\\n\",\n",
        "    cudaGetErrorString(cuerr));\n",
        "    return 0;\n",
        "  }\n",
        "\n",
        "  cuerr = cudaMalloc(&b_gpu, size * sizeof(double));\n",
        "  if (cuerr != cudaSuccess) {\n",
        "    fprintf(stderr, \"Cannot allocate device array for B: %s\\n\",\n",
        "    cudaGetErrorString(cuerr));\n",
        "    return 0;\n",
        "  }\n",
        "  cuerr = cudaMalloc((void **)&pi_gpu, sizeof(int));\n",
        "  if (cuerr != cudaSuccess) {\n",
        "    fprintf(stderr, \"Cannot allocate device array for PI: %s\\n\",\n",
        "    cudaGetErrorString(cuerr));\n",
        "    return 0;\n",
        "  }\n",
        "  // Создание обработчиков событий\n",
        "  cudaEvent_t start, stop;\n",
        "  cuerr = cudaEventCreate(&start);\n",
        "  if (cuerr != cudaSuccess) {\n",
        "    fprintf(stderr, \"Cannot create CUDA start event: %s\\n\",\n",
        "      cudaGetErrorString(cuerr));\n",
        "    return 0;\n",
        "  }\n",
        "  cuerr = cudaEventCreate(&stop);\n",
        "    if (cuerr != cudaSuccess) {\n",
        "    fprintf(stderr, \"Cannot create CUDA stop event: %s\\n\",\n",
        "      cudaGetErrorString(cuerr));\n",
        "    return 0;\n",
        "  }\n",
        "\n",
        "\n",
        "  // Заполняем массивы A и B на GPU рандомными значениями\n",
        "  GPU_fill_rand(a_gpu, size);\n",
        "  GPU_fill_rand(b_gpu, size);\n",
        "\n",
        "  dim3 block = dim3 (BLOCK_SIZE, 1, 1);\n",
        "  dim3 grid = dim3 (GRID_SIZE, 1);\n",
        "  cudaEventRecord(start, 0);\n",
        "  // Запуск ядра\n",
        "  piCalcKernel<<< grid, block >>>(a_gpu, b_gpu, pi_gpu, size);\n",
        "  cuerr = cudaGetLastError();\n",
        "  if (cuerr != cudaSuccess)\n",
        "  {\n",
        "    fprintf(stderr, \"Cannot launch CUDA kernel: %s\\n\", cudaGetErrorString(cuerr));\n",
        "    return 0;\n",
        "  }\n",
        "  // Синхронизация устройств\n",
        "  cuerr = cudaDeviceSynchronize();\n",
        "  if (cuerr != cudaSuccess)\n",
        "  {\n",
        "    fprintf(stderr, \"Cannot synchronize CUDA kernel: %s\\n\",\n",
        "    cudaGetErrorString(cuerr));\n",
        "    return 0;\n",
        "  }\n",
        "  cudaEventRecord(stop, 0);\n",
        "  cudaEventSynchronize(stop);\n",
        "  float mmul_time = 0.0f;\n",
        "  cudaEventElapsedTime(&mmul_time, start, stop);\n",
        "\n",
        "  cudaEventDestroy(start);\n",
        "  cudaEventDestroy(stop);\n",
        "  std::cout << size << std::endl;\n",
        "  printf(\"...............\\n\");\n",
        "\n",
        "  // Копирование матриц на CPU\n",
        "  cudaMemcpy(a, a_gpu, size * sizeof(double), cudaMemcpyDeviceToHost);\n",
        "  cudaMemcpy(b, b_gpu, size * sizeof(double), cudaMemcpyDeviceToHost);\n",
        "\n",
        "  clock_t time_cpu;\n",
        "  time_cpu = clock();\n",
        "  //расчет cpu\n",
        "  check_calc(a, b, size);\n",
        "  time_cpu = clock() - time_cpu;\n",
        "\n",
        "\n",
        "  // Копирование результата умножения на CPU\n",
        "  cudaMemcpy(pi, pi_gpu, sizeof(int), cudaMemcpyDeviceToHost);\n",
        "  std::cout << std::endl;\n",
        "  std::cout << \"pi = \" << ((double)(4 * pi[0])) / ((double)size) << std::endl;\n",
        "\n",
        "  mmul_time = mmul_time / 1000;\n",
        "  printf(\"..............\\n\");\n",
        "  printf(\"Mmul time GPU: %.4f \\n\", mmul_time);\n",
        "  printf(\"Mmul time CPU: %.4f \\n\", (double) time_cpu / CLOCKS_PER_SEC);\n",
        "\n",
        "  //Освобождение памяти GPU\n",
        "  cudaFree(a_gpu);\n",
        "  cudaFree(b_gpu);\n",
        "  cudaFree(pi_gpu);\n",
        "  //cudaFree(pi_global);\n",
        "  // Освобождение памяти CPU\n",
        "  free(a);\n",
        "  free(b);\n",
        "  free(pi);\n",
        "  return 0;\n",
        "}"
      ]
    },
    {
      "cell_type": "code",
      "source": [
        "!nvcc -o /content/src/lab_3 /content/src/lab_3.cu -lcurand -lcublas"
      ],
      "metadata": {
        "id": "2KR1Xq5XDxSi"
      },
      "execution_count": 7,
      "outputs": []
    },
    {
      "cell_type": "code",
      "source": [
        "!/content/src/lab_3"
      ],
      "metadata": {
        "colab": {
          "base_uri": "https://localhost:8080/"
        },
        "id": "b0v4SmNTD5x0",
        "outputId": "880d91d1-35a7-483e-82af-1d4db5dbd08b"
      },
      "execution_count": 13,
      "outputs": [
        {
          "output_type": "stream",
          "name": "stdout",
          "text": [
            "100000000\n",
            "100000000\n",
            "...............\n",
            "Check PI = 3.141280\n",
            "pi = 3.14128\n",
            "..............\n",
            "Mmul time GPU: 0.0748 \n",
            "Mmul time CPU: 1.1584 \n"
          ]
        }
      ]
    },
    {
      "cell_type": "code",
      "source": [
        "import numpy as np"
      ],
      "metadata": {
        "id": "7-_2gZLQQ24E"
      },
      "execution_count": 9,
      "outputs": []
    },
    {
      "cell_type": "code",
      "source": [
        "import matplotlib.pyplot as plt\n",
        "x = [10000, 100000, 1000000, 10000000, 100000000]\n",
        "cpu = [0.0001, 0.0008, 0.0086, 0.1149, 1.1584]\n",
        "gpu = [0.0003, 0.0003, 0.0009, 0.0077, 0.0748]\n",
        "plt.xlabel(\"Size\")\n",
        "plt.ylabel(\"Time, s\")\n",
        "plt.plot(x, cpu, label='cpu')\n",
        "plt.plot(x, gpu, label='gpu')\n",
        "plt.legend()\n",
        "plt.show()"
      ],
      "metadata": {
        "colab": {
          "base_uri": "https://localhost:8080/",
          "height": 450
        },
        "id": "DieH1czerNHa",
        "outputId": "a7f002cc-aa41-4cca-b6fb-63013408f106"
      },
      "execution_count": 18,
      "outputs": [
        {
          "output_type": "display_data",
          "data": {
            "text/plain": [
              "<Figure size 640x480 with 1 Axes>"
            ],
            "image/png": "[encoded data removed]"
          },
          "metadata": {}
        }
      ]
    },
    {
      "cell_type": "code",
      "source": [
        "a = [cpu[i] / gpu[i] for i in range(len(cpu))]\n",
        "plt.xlabel(\"Size\")\n",
        "plt.ylabel(\"Acceleration\")\n",
        "plt.plot(x, a)\n",
        "plt.show()\n",
        "print(a)"
      ],
      "metadata": {
        "colab": {
          "base_uri": "https://localhost:8080/",
          "height": 466
        },
        "id": "fhT3WHU_vVP9",
        "outputId": "cde72875-01e3-47f0-bb36-050066309bd9"
      },
      "execution_count": 16,
      "outputs": [
        {
          "output_type": "display_data",
          "data": {
            "text/plain": [
              "<Figure size 640x480 with 1 Axes>"
            ],
            "image/png": "[encoded data removed]"
          },
          "metadata": {}
        },
        {
          "output_type": "stream",
          "name": "stdout",
          "text": [
            "[0.33333333333333337, 2.666666666666667, 9.555555555555555, 14.922077922077921, 15.48663101604278]\n"
          ]
        }
      ]
    }
  ]
}